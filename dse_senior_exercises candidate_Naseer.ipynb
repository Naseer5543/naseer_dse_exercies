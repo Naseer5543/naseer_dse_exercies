{
 "cells": [
  {
   "cell_type": "code",
   "execution_count": 1,
   "metadata": {},
   "outputs": [],
   "source": [
    "import numpy as np\n",
    "import time"
   ]
  },
  {
   "cell_type": "markdown",
   "metadata": {},
   "source": [
    "### In this exercise we expect you to demonstrate your ability to / knowledge of:\n",
    "- optimization\n",
    "- error debugging\n",
    "- Performance improvement\n",
    "- OOPS\n",
    "- Git Actions"
   ]
  },
  {
   "cell_type": "markdown",
   "metadata": {},
   "source": [
    "### Improve the efficiency of following code"
   ]
  },
  {
   "cell_type": "code",
   "execution_count": 2,
   "metadata": {},
   "outputs": [
    {
     "name": "stdout",
     "output_type": "stream",
     "text": [
      "704982704\n",
      "for loop method took 0.028990983963012695\n"
     ]
    },
    {
     "name": "stderr",
     "output_type": "stream",
     "text": [
      "C:\\Users\\N-Workstation\\AppData\\Local\\Temp\\ipykernel_338132\\1055407611.py:4: RuntimeWarning: overflow encountered in long_scalars\n",
      "  total = i + total\n"
     ]
    }
   ],
   "source": [
    "starttime1=time.time()\n",
    "total = 0\n",
    "for i in np.arange(100000):\n",
    "    total = i + total\n",
    "endtime1=time.time()\n",
    "f_time=endtime1-starttime1\n",
    "print(total)\n",
    "print(f'for loop method took {f_time}')"
   ]
  },
  {
   "cell_type": "markdown",
   "metadata": {},
   "source": [
    "Optimized Code"
   ]
  },
  {
   "cell_type": "code",
   "execution_count": 3,
   "metadata": {},
   "outputs": [
    {
     "name": "stdout",
     "output_type": "stream",
     "text": [
      "for loop method took 0.01201486587524414\n",
      "704982704\n"
     ]
    }
   ],
   "source": [
    "#Np.sum can handle in optimized manner\n",
    "\n",
    "starttime1=time.time()\n",
    "\n",
    "total_v2 = 0\n",
    "n = 100000\n",
    "total_v2 = np.sum(np.arange(n))\n",
    "endtime1=time.time()\n",
    "\n",
    "f_time=endtime1-starttime1\n",
    "print(f'for loop method took {f_time}')\n",
    "print(total_v2)"
   ]
  },
  {
   "cell_type": "markdown",
   "metadata": {},
   "source": [
    "### idenitify code issue"
   ]
  },
  {
   "cell_type": "code",
   "execution_count": 4,
   "metadata": {},
   "outputs": [],
   "source": [
    "import pandas as pd\n",
    "import io\n",
    "import requests\n",
    "url=\"https://raw.githubusercontent.com/cs109/2014_data/master/countries.csv\"\n",
    "s=requests.get(url).content\n",
    "c=pd.read_csv(io.StringIO(s.decode('utf-8')))"
   ]
  },
  {
   "cell_type": "code",
   "execution_count": 5,
   "metadata": {},
   "outputs": [
    {
     "name": "stderr",
     "output_type": "stream",
     "text": [
      "C:\\Users\\N-Workstation\\AppData\\Local\\Temp\\ipykernel_338132\\3670693239.py:2: SettingWithCopyWarning: \n",
      "A value is trying to be set on a copy of a slice from a DataFrame.\n",
      "Try using .loc[row_indexer,col_indexer] = value instead\n",
      "\n",
      "See the caveats in the documentation: https://pandas.pydata.org/pandas-docs/stable/user_guide/indexing.html#returning-a-view-versus-a-copy\n",
      "  c[c.Country=='Paraguay']['new_col']=10\n"
     ]
    }
   ],
   "source": [
    "#whats woring with following code->goal is to create new column and set the value for 'Paraguay' to 10\n",
    "c[c.Country=='Paraguay']['new_col']=10\n"
   ]
  },
  {
   "cell_type": "markdown",
   "metadata": {},
   "source": [
    "Solution Below"
   ]
  },
  {
   "cell_type": "code",
   "execution_count": 6,
   "metadata": {},
   "outputs": [],
   "source": [
    "#Code handles above error i.e create col: new_col which has value: 10 for 'Country' column having value: Paraguay, rest of rows of new_col would have nulls\n",
    "c.loc[c['Country'] == 'Paraguay', 'new_col'] = 10"
   ]
  },
  {
   "cell_type": "code",
   "execution_count": 7,
   "metadata": {},
   "outputs": [
    {
     "data": {
      "text/html": [
       "<div>\n",
       "<style scoped>\n",
       "    .dataframe tbody tr th:only-of-type {\n",
       "        vertical-align: middle;\n",
       "    }\n",
       "\n",
       "    .dataframe tbody tr th {\n",
       "        vertical-align: top;\n",
       "    }\n",
       "\n",
       "    .dataframe thead th {\n",
       "        text-align: right;\n",
       "    }\n",
       "</style>\n",
       "<table border=\"1\" class=\"dataframe\">\n",
       "  <thead>\n",
       "    <tr style=\"text-align: right;\">\n",
       "      <th></th>\n",
       "      <th>Country</th>\n",
       "      <th>Region</th>\n",
       "      <th>new_col</th>\n",
       "    </tr>\n",
       "  </thead>\n",
       "  <tbody>\n",
       "    <tr>\n",
       "      <th>189</th>\n",
       "      <td>Paraguay</td>\n",
       "      <td>SOUTH AMERICA</td>\n",
       "      <td>10.0</td>\n",
       "    </tr>\n",
       "  </tbody>\n",
       "</table>\n",
       "</div>"
      ],
      "text/plain": [
       "      Country         Region  new_col\n",
       "189  Paraguay  SOUTH AMERICA     10.0"
      ]
     },
     "execution_count": 7,
     "metadata": {},
     "output_type": "execute_result"
    }
   ],
   "source": [
    "c[c.Country=='Paraguay'].head()"
   ]
  },
  {
   "cell_type": "code",
   "execution_count": 8,
   "metadata": {},
   "outputs": [
    {
     "data": {
      "text/html": [
       "<div>\n",
       "<style scoped>\n",
       "    .dataframe tbody tr th:only-of-type {\n",
       "        vertical-align: middle;\n",
       "    }\n",
       "\n",
       "    .dataframe tbody tr th {\n",
       "        vertical-align: top;\n",
       "    }\n",
       "\n",
       "    .dataframe thead th {\n",
       "        text-align: right;\n",
       "    }\n",
       "</style>\n",
       "<table border=\"1\" class=\"dataframe\">\n",
       "  <thead>\n",
       "    <tr style=\"text-align: right;\">\n",
       "      <th></th>\n",
       "      <th>Country</th>\n",
       "      <th>Region</th>\n",
       "      <th>new_col</th>\n",
       "    </tr>\n",
       "  </thead>\n",
       "  <tbody>\n",
       "    <tr>\n",
       "      <th>0</th>\n",
       "      <td>Algeria</td>\n",
       "      <td>AFRICA</td>\n",
       "      <td>NaN</td>\n",
       "    </tr>\n",
       "    <tr>\n",
       "      <th>1</th>\n",
       "      <td>Angola</td>\n",
       "      <td>AFRICA</td>\n",
       "      <td>NaN</td>\n",
       "    </tr>\n",
       "    <tr>\n",
       "      <th>2</th>\n",
       "      <td>Benin</td>\n",
       "      <td>AFRICA</td>\n",
       "      <td>NaN</td>\n",
       "    </tr>\n",
       "    <tr>\n",
       "      <th>3</th>\n",
       "      <td>Botswana</td>\n",
       "      <td>AFRICA</td>\n",
       "      <td>NaN</td>\n",
       "    </tr>\n",
       "    <tr>\n",
       "      <th>4</th>\n",
       "      <td>Burkina</td>\n",
       "      <td>AFRICA</td>\n",
       "      <td>NaN</td>\n",
       "    </tr>\n",
       "  </tbody>\n",
       "</table>\n",
       "</div>"
      ],
      "text/plain": [
       "    Country  Region  new_col\n",
       "0   Algeria  AFRICA      NaN\n",
       "1    Angola  AFRICA      NaN\n",
       "2     Benin  AFRICA      NaN\n",
       "3  Botswana  AFRICA      NaN\n",
       "4   Burkina  AFRICA      NaN"
      ]
     },
     "execution_count": 8,
     "metadata": {},
     "output_type": "execute_result"
    }
   ],
   "source": [
    "c.head()"
   ]
  },
  {
   "cell_type": "markdown",
   "metadata": {},
   "source": [
    "### Parllel processing"
   ]
  },
  {
   "cell_type": "markdown",
   "metadata": {},
   "source": [
    "Normalize each row of 2d array (list) to vary between 0 and 1\n",
    "\n",
    "make sure code can execute on multiple cpu's\n",
    "\n",
    "input:[[2, 3, 4, 5], [6, 9, 10, 12], [11, 12, 13, 14], [21, 24, 25, 26]]\n",
    "\n",
    "Output:[[0.0, 0.3333333333333333, 0.6666666666666666, 1.0], [0.0, 0.5, 0.6666666666666666, 1.0], [0.0, 0.3333333333333333, 0.6666666666666666, 1.0], [0.0, 0.6, 0.8, 1.0]]"
   ]
  },
  {
   "cell_type": "markdown",
   "metadata": {},
   "source": [
    "Solution"
   ]
  },
  {
   "cell_type": "code",
   "execution_count": 9,
   "metadata": {},
   "outputs": [
    {
     "name": "stdout",
     "output_type": "stream",
     "text": [
      "[[0.0, 0.3333333333333333, 0.6666666666666666, 1.0], [0.0, 0.5, 0.6666666666666666, 1.0], [0.0, 0.3333333333333333, 0.6666666666666666, 1.0], [0.0, 0.6, 0.8, 1.0]]\n"
     ]
    }
   ],
   "source": [
    "import numpy as np\n",
    "\n",
    "# Sample 2D array of lists\n",
    "data = np.array([[2, 3, 4, 5], [6, 9, 10, 12], [11, 12, 13, 14], [21, 24, 25, 26]])\n",
    "\n",
    "# Min-Max scaling to normalize the data between 0 and 1\n",
    "min_vals = np.min(data, axis=1, keepdims=True)\n",
    "max_vals = np.max(data, axis=1, keepdims=True)\n",
    "\n",
    "normalized_data = (data - min_vals) / (max_vals - min_vals)\n",
    "\n",
    "print(normalized_data.tolist())"
   ]
  },
  {
   "cell_type": "markdown",
   "metadata": {},
   "source": [
    "With Multiple CPUs"
   ]
  },
  {
   "cell_type": "code",
   "execution_count": 20,
   "metadata": {},
   "outputs": [],
   "source": [
    "data = [[2, 3, 4, 5], [6, 9, 10, 12], [11, 12, 13, 14], [21, 24, 25, 26]]\n",
    "\n",
    "import numpy as np\n",
    "import multiprocessing as mp\n",
    "\n",
    "def normalize_row(row):\n",
    "    min_val = min(row, axis=1, keepdims=True)\n",
    "    max_val = max(row, axis=1, keepdims=True)\n",
    "    return [(val - min_val) / (max_val - min_val) for val in row]\n",
    "\n",
    "# Normalize each row of the 2D array between 0 and 1 using multiple CPUs\n",
    "def normalize_2d_array(data):\n",
    "    num_processes = mp.cpu_count()\n",
    "    pool = mp.Pool(processes=num_processes)\n",
    "    normalized_data = pool.map(normalize_row, data)\n",
    "    pool.close()\n",
    "    pool.join()\n",
    "    return normalized_data"
   ]
  },
  {
   "cell_type": "code",
   "execution_count": 21,
   "metadata": {},
   "outputs": [],
   "source": [
    "output_data = normalize_2d_array(data)\n",
    "\n",
    "print(output_data)"
   ]
  },
  {
   "cell_type": "markdown",
   "metadata": {},
   "source": [
    "### OOPS-github actions"
   ]
  },
  {
   "cell_type": "markdown",
   "metadata": {},
   "source": [
    "Following is the table structure\n",
    "\n",
    "CREATE TABLE author(\n",
    "    A_ID int NOT NULL,\n",
    "    Name varchar(100),\n",
    "    PRIMARY KEY(A_ID )\n",
    ")\n",
    "\n",
    "CREATE TABLE books(\n",
    "   B_ID int NOT NULL PRIMARY KEY,\n",
    "   Name varchar(100),\n",
    "   Price int NOT NULL,\n",
    "   A_ID int FOREIGN KEY REFERENCES author(A_ID)\n",
    "); \n"
   ]
  },
  {
   "cell_type": "markdown",
   "metadata": {},
   "source": [
    "- Program should read ddl statements and parse column names, data types and length of the columns and constraints\n",
    "\n",
    "- Program should generate required number of rows for parent and child tables  (can be taken as a parameter)\n",
    "\n",
    "- Generated data of both tables should follow the normalization rules and also foreign key constraints and data types\n",
    "\n",
    "- write approriate test cases wtih python test framework(unit test or pytest)\n",
    "\n",
    "- code should be committed to Git only when all the testcases are passd (use git actions) , this step acts as a ci/cd step.\n",
    "\n",
    "- Code should be using oops concets and pep 8 standards with proper documentation\n",
    "\n",
    "- result data should be saved in parquet format."
   ]
  },
  {
   "cell_type": "markdown",
   "metadata": {},
   "source": [
    "Solution below:"
   ]
  },
  {
   "cell_type": "markdown",
   "metadata": {},
   "source": [
    "I have attached following three files along with this jupyter notebook as part of email, Please find below files with description for each of them.\n",
    "\n",
    "1) ds_exercise_final.py - Final code to generate table, add data, get data, write to the parquet format.\n",
    "2) test_file.py - code for pytest test cases.\n",
    "3) pythonapp.yml - yaml file for github actions to check if the code is good for commit. (tested on github)\n"
   ]
  }
 ],
 "metadata": {
  "kernelspec": {
   "display_name": "Python 3.8.13 ('prophet_dask')",
   "language": "python",
   "name": "python3"
  },
  "language_info": {
   "codemirror_mode": {
    "name": "ipython",
    "version": 3
   },
   "file_extension": ".py",
   "mimetype": "text/x-python",
   "name": "python",
   "nbconvert_exporter": "python",
   "pygments_lexer": "ipython3",
   "version": "3.10.0"
  },
  "orig_nbformat": 4,
  "vscode": {
   "interpreter": {
    "hash": "4957677facd8a6e72df18d44ce65e114ed39d9e074aafecc080edd6ab3e46e6b"
   }
  }
 },
 "nbformat": 4,
 "nbformat_minor": 2
}
